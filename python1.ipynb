{
  "nbformat": 4,
  "nbformat_minor": 0,
  "metadata": {
    "colab": {
      "name": "python1.ipynb",
      "provenance": []
    },
    "kernelspec": {
      "name": "python3",
      "display_name": "Python 3"
    },
    "language_info": {
      "name": "python"
    }
  },
  "cells": [
    {
      "cell_type": "code",
      "execution_count": 1,
      "metadata": {
        "colab": {
          "base_uri": "https://localhost:8080/"
        },
        "id": "mLnV6aCpFlso",
        "outputId": "7e69da5b-8201-4478-e886-7a370044b01a"
      },
      "outputs": [
        {
          "output_type": "stream",
          "name": "stdout",
          "text": [
            "15\n"
          ]
        }
      ],
      "source": [
        "y=10\n",
        "x=5\n",
        "s=x+y\n",
        "print(s)"
      ]
    },
    {
      "cell_type": "code",
      "source": [
        "x=20\n",
        "n=int(input(\"enter limit\"))\n",
        "for i in range(0,n,1):\n",
        "  print(i)"
      ],
      "metadata": {
        "colab": {
          "base_uri": "https://localhost:8080/"
        },
        "id": "hwKG82t5GbTn",
        "outputId": "0c5ceab0-d200-4294-9d69-b907aa7a42c2"
      },
      "execution_count": 2,
      "outputs": [
        {
          "output_type": "stream",
          "name": "stdout",
          "text": [
            "enter limit8\n",
            "0\n",
            "1\n",
            "2\n",
            "3\n",
            "4\n",
            "5\n",
            "6\n",
            "7\n"
          ]
        }
      ]
    },
    {
      "cell_type": "code",
      "source": [
        "x=\"awesome\"\n",
        "c=x.count(x)\n",
        "print(c)"
      ],
      "metadata": {
        "colab": {
          "base_uri": "https://localhost:8080/"
        },
        "id": "uof1lpJEHL9-",
        "outputId": "ef8aebb0-4769-4f31-aadf-f480a51be296"
      },
      "execution_count": 5,
      "outputs": [
        {
          "output_type": "stream",
          "name": "stdout",
          "text": [
            "1\n"
          ]
        }
      ]
    },
    {
      "cell_type": "code",
      "source": [
        "x=\"Vishnu\"\n",
        "print(x)\n",
        "\n",
        "\n"
      ],
      "metadata": {
        "colab": {
          "base_uri": "https://localhost:8080/"
        },
        "id": "9Uc0U89-I_j8",
        "outputId": "a71e419b-e936-4d3c-e394-35a2fcc23816"
      },
      "execution_count": 9,
      "outputs": [
        {
          "output_type": "stream",
          "name": "stdout",
          "text": [
            "Vishnu\n"
          ]
        }
      ]
    },
    {
      "cell_type": "code",
      "source": [
        "x=\"vishnusharan\"\n",
        "c=len(x)\n",
        "print(c)"
      ],
      "metadata": {
        "colab": {
          "base_uri": "https://localhost:8080/"
        },
        "id": "aQ7AWwWDKbgv",
        "outputId": "1e49d039-5570-440b-94df-7f04de8be523"
      },
      "execution_count": 10,
      "outputs": [
        {
          "output_type": "stream",
          "name": "stdout",
          "text": [
            "12\n"
          ]
        }
      ]
    },
    {
      "cell_type": "code",
      "source": [
        "x=10\n",
        "y=20.5\n",
        "z=\"yourname\"\n",
        "print(x+y,\":\",z)\n"
      ],
      "metadata": {
        "colab": {
          "base_uri": "https://localhost:8080/"
        },
        "id": "uVP7EVw6KxLe",
        "outputId": "0469c645-a9e2-400b-9a9b-78ac27fcb840"
      },
      "execution_count": 18,
      "outputs": [
        {
          "output_type": "stream",
          "name": "stdout",
          "text": [
            "30.5 : yourname\n"
          ]
        }
      ]
    },
    {
      "cell_type": "code",
      "source": [
        "x=int(input(\"enter first number:\"))\n",
        "y=int(input(\"enter second number:\"))\n",
        "l=[]\n",
        "l.append(x)\n",
        "l.append(y)\n",
        "l.append(x+y)\n",
        "l.append(x*y)\n",
        "l.append(x-y)\n",
        "l.append(x/y)\n",
        "print(l)\n",
        "for i in range(2,len(l),1):\n",
        "  print(l[i])\n",
        "\n",
        "\n",
        "\n",
        "\n",
        "\n",
        "\n",
        "\n",
        "\n",
        "\n",
        "\n",
        "\n"
      ],
      "metadata": {
        "colab": {
          "base_uri": "https://localhost:8080/"
        },
        "id": "HWX1DW5vL50W",
        "outputId": "2c5607dc-d871-43ae-a552-1aff3409cbb2"
      },
      "execution_count": 29,
      "outputs": [
        {
          "output_type": "stream",
          "name": "stdout",
          "text": [
            "enter first number:100\n",
            "enter second number:20\n",
            "[100, 20, 120, 2000, 80, 5.0]\n",
            "120\n",
            "2000\n",
            "80\n",
            "5.0\n"
          ]
        }
      ]
    },
    {
      "cell_type": "code",
      "source": [
        ""
      ],
      "metadata": {
        "id": "VpLClCn3PQfa"
      },
      "execution_count": null,
      "outputs": []
    }
  ]
}