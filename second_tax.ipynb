{
  "nbformat": 4,
  "nbformat_minor": 0,
  "metadata": {
    "colab": {
      "name": "second tax.ipynb",
      "provenance": [],
      "authorship_tag": "ABX9TyNhTUYYP3tDieRqKjpU33jO",
      "include_colab_link": true
    },
    "kernelspec": {
      "name": "python3",
      "display_name": "Python 3"
    },
    "language_info": {
      "name": "python"
    }
  },
  "cells": [
    {
      "cell_type": "markdown",
      "metadata": {
        "id": "view-in-github",
        "colab_type": "text"
      },
      "source": [
        "<a href=\"https://colab.research.google.com/github/Sharan-47/firstrepo/blob/main/second_tax.ipynb\" target=\"_parent\"><img src=\"https://colab.research.google.com/assets/colab-badge.svg\" alt=\"Open In Colab\"/></a>"
      ]
    },
    {
      "cell_type": "code",
      "execution_count": 4,
      "metadata": {
        "colab": {
          "base_uri": "https://localhost:8080/"
        },
        "id": "FIamH0G9PzvI",
        "outputId": "c5443cbb-9b5e-469d-9923-685363840d68"
      },
      "outputs": [
        {
          "output_type": "stream",
          "name": "stdout",
          "text": [
            "enter a number100\n",
            "enter a number20\n",
            "SUM : 120\n",
            "DIFFERENCE : 80\n",
            "divide : 5.0\n",
            "MULTIPLY : 2000\n",
            "square : 10000000000000000000000000000000000000000\n"
          ]
        }
      ],
      "source": [
        "x=int(input(\"enter a number\"))\n",
        "y=int(input(\"enter a number\"))\n",
        "print(\"SUM\",\":\",x+y)\n",
        "print(\"DIFFERENCE\",\":\",x-y)\n",
        "print(\"divide\",\":\",x/y)"
      ]
    },
    {
      "cell_type": "code",
      "source": [
        "p=int(input(\"enter prinicpal amount:\"))\n",
        "n=int(input(\"enter number of years :\"))\n",
        "r=int(input(\"enter rate of interest:\"))\n",
        "b=int(p*n*r/100)\n",
        "print(\"Total Amount\",\":\",b+p)\n"
      ],
      "metadata": {
        "colab": {
          "base_uri": "https://localhost:8080/"
        },
        "id": "K4OzOIPtQeIc",
        "outputId": "851cbf17-41d9-4b24-b283-d17ab7f0c38f"
      },
      "execution_count": 11,
      "outputs": [
        {
          "output_type": "stream",
          "name": "stdout",
          "text": [
            "enter prinicpal amount:10000\n",
            "enter number of years :5\n",
            "enter rate of interest:8\n",
            "Total Amount : 14000\n"
          ]
        }
      ]
    },
    {
      "cell_type": "code",
      "source": [
        "m=int(input(\"enter marks for banking:\"))\n",
        "if m>50:\n",
        "  print(\"PASS\")\n",
        "else:\n",
        "  print(\"FAIL\")"
      ],
      "metadata": {
        "colab": {
          "base_uri": "https://localhost:8080/"
        },
        "id": "JReZJktoUAcO",
        "outputId": "566f9e78-34b4-4ac9-b97d-91f57af067af"
      },
      "execution_count": 12,
      "outputs": [
        {
          "output_type": "stream",
          "name": "stdout",
          "text": [
            "enter marks for banking:75\n",
            "PASS\n"
          ]
        }
      ]
    },
    {
      "cell_type": "code",
      "source": [
        "s=int(input(\"enter salary:\"))\n",
        "if s>250000 and s<500000:\n",
        "  print(\"Taxable\")\n",
        "  a=s-250000\n",
        "  print(\"Tax :\",int(a*10/100))\n",
        "elif s>500000:\n",
        "  a=s-250000\n",
        "  print(\"Tax :\",int(a*30/100))\n",
        "else: \n",
        "  print(\"Not Taxable\")"
      ],
      "metadata": {
        "colab": {
          "base_uri": "https://localhost:8080/"
        },
        "id": "cVshE54-X56S",
        "outputId": "a58fb882-a070-440b-c03b-48477cd9db35"
      },
      "execution_count": 20,
      "outputs": [
        {
          "output_type": "stream",
          "name": "stdout",
          "text": [
            "enter salary:800000\n",
            "Tax : 165000\n"
          ]
        }
      ]
    },
    {
      "cell_type": "code",
      "source": [
        ""
      ],
      "metadata": {
        "id": "7mUDviK7axVz"
      },
      "execution_count": null,
      "outputs": []
    }
  ]
}