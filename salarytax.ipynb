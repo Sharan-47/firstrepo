{
  "nbformat": 4,
  "nbformat_minor": 0,
  "metadata": {
    "colab": {
      "name": "Untitled1.ipynb",
      "provenance": [],
      "authorship_tag": "ABX9TyNV7WuXpK5ScEfpG4nlpL2U",
      "include_colab_link": true
    },
    "kernelspec": {
      "name": "python3",
      "display_name": "Python 3"
    },
    "language_info": {
      "name": "python"
    }
  },
  "cells": [
    {
      "cell_type": "markdown",
      "metadata": {
        "id": "view-in-github",
        "colab_type": "text"
      },
      "source": [
        "<a href=\"https://colab.research.google.com/github/Sharan-47/firstrepo/blob/main/salarytax.ipynb\" target=\"_parent\"><img src=\"https://colab.research.google.com/assets/colab-badge.svg\" alt=\"Open In Colab\"/></a>"
      ]
    },
    {
      "cell_type": "code",
      "execution_count": 1,
      "metadata": {
        "colab": {
          "base_uri": "https://localhost:8080/"
        },
        "id": "y8fKhJj6RHFQ",
        "outputId": "b8a3e130-0b1c-4244-82bc-c218906ca410"
      },
      "outputs": [
        {
          "name": "stdout",
          "output_type": "stream",
          "text": [
            "enter basic salary:450000\n",
            "enter HRA:240000\n",
            "enter special allowance:120000\n",
            "enter LTA:15000\n"
          ]
        }
      ],
      "source": [
        "s=int(input(\"enter basic salary:\"))\n",
        "h=int(input(\"enter HRA:\"))\n",
        "a=int(input(\"enter special allowance:\"))\n",
        "l=int(input(\"enter LTA:\"))"
      ]
    },
    {
      "cell_type": "code",
      "source": [
        "q=[]\n",
        "q.append(s)\n",
        "for i in q:\n",
        "  if i>250000 and i<500000:\n",
        "    print(\"TAX:\",i*5/100)\n",
        "  elif i>500000 and i<750000:\n",
        "    print(\"TAX:\",i*10/100)\n",
        "  elif i>750000 and i<1000000:\n",
        "    print(\"TAX:\",i*20/100)\n",
        "  elif i>1000000:\n",
        "    print(\"TAX:\",i*30/100)"
      ],
      "metadata": {
        "colab": {
          "base_uri": "https://localhost:8080/"
        },
        "id": "_xJ0LQUcRhLI",
        "outputId": "8b319ad3-272a-49c1-b94f-58e4f23f55d2"
      },
      "execution_count": 3,
      "outputs": [
        {
          "output_type": "stream",
          "name": "stdout",
          "text": [
            "TAX: 22500.0\n"
          ]
        }
      ]
    },
    {
      "cell_type": "code",
      "source": [
        "q.append(h)\n"
      ],
      "metadata": {
        "id": "BZZWVQe9UgjQ"
      },
      "execution_count": null,
      "outputs": []
    },
    {
      "cell_type": "code",
      "source": [
        "q=[]\n",
        "q.append(h)\n",
        "for i in q:\n",
        "  s=int(input(\"enter basic salary:\")"
      ],
      "metadata": {
        "id": "-Gw5-sl0Va8K"
      },
      "execution_count": 6,
      "outputs": []
    },
    {
      "cell_type": "code",
      "source": [
        "i=int(input(\"enter basic salary:\"))\n",
        "if i>250000 and i<500000:\n",
        "  print(\"TAX:\",i*5/100)\n",
        "elif i>500000 and i<750000:\n",
        "  print(\"TAX:\",i*10/100)\n",
        "elif i>750000 and i<1000000:\n",
        "  print(\"TAX:\",i*20/100)\n",
        "elif i>1000000:\n",
        "  print(\"TAX:\",i*30/100)"
      ],
      "metadata": {
        "colab": {
          "base_uri": "https://localhost:8080/"
        },
        "id": "Y2_5CIuoVzwe",
        "outputId": "71c10883-846a-4cb3-d186-135147839df6"
      },
      "execution_count": 9,
      "outputs": [
        {
          "output_type": "stream",
          "name": "stdout",
          "text": [
            "enter basic salary:450000\n",
            "TAX: 22500.0\n"
          ]
        }
      ]
    },
    {
      "cell_type": "code",
      "source": [
        "i=int(input(\"enter HRA:\"))\n",
        "if i>250000 and i<500000:\n",
        "  print(\"TAX:\",i*5/100)\n",
        "elif i>500000 and i<750000:\n",
        "  print(\"TAX:\",i*10/100)\n",
        "elif i>750000 and i<1000000:\n",
        "  print(\"TAX:\",i*20/100)\n",
        "elif i>1000000:\n",
        "  print(\"TAX:\",i*30/100)\n"
      ],
      "metadata": {
        "colab": {
          "base_uri": "https://localhost:8080/"
        },
        "id": "EVbj0upyWDwU",
        "outputId": "56891710-ec47-46d1-d910-ea8ce4f50258"
      },
      "execution_count": 13,
      "outputs": [
        {
          "name": "stdout",
          "output_type": "stream",
          "text": [
            "enter HRA:240000\n"
          ]
        }
      ]
    },
    {
      "cell_type": "code",
      "source": [
        "i=int(input(\"enter special allowance:\"))\n",
        "if i>250000 and i<500000:\n",
        "  print(\"TAX:\",i*5/100)\n",
        "elif i>500000 and i<750000:\n",
        "  print(\"TAX:\",i*10/100)\n",
        "elif i>750000 and i<1000000:\n",
        "  print(\"TAX:\",i*20/100)\n",
        "elif i>1000000:\n",
        "  print(\"TAX:\",i*30/100)\n",
        "  "
      ],
      "metadata": {
        "colab": {
          "base_uri": "https://localhost:8080/"
        },
        "id": "SaTfjOqpWage",
        "outputId": "9591a06e-50a8-4f01-8fdb-8c26e0564c9d"
      },
      "execution_count": 14,
      "outputs": [
        {
          "name": "stdout",
          "output_type": "stream",
          "text": [
            "enter special allowance:120000\n"
          ]
        }
      ]
    },
    {
      "cell_type": "code",
      "source": [
        "i=int(input(\"enter LTA:\"))\n",
        "if i>250000 and i<500000:\n",
        "  q=i-250000\n",
        "  print(\"TAX:\",q*5/100)\n",
        "elif i>500000 and i<750000:\n",
        "  q=i-500000\n",
        "  w=500000-250000\n",
        "  print(\"TAX:\",w*5/100+q*10/100)\n",
        "elif i>750000 and i<1000000:\n",
        "  q=i-750000\n",
        "  w=500000-250000\n",
        "  print(\"TAX:\",q*20/100+)\n",
        "elif i>1000000:\n",
        "  q=i-250000\n",
        "  print(\"TAX:\",q*30/100)"
      ],
      "metadata": {
        "colab": {
          "base_uri": "https://localhost:8080/"
        },
        "id": "l9lbJO8CW7ng",
        "outputId": "4657b176-f048-4d87-98ad-ff4fcea5a357"
      },
      "execution_count": 18,
      "outputs": [
        {
          "output_type": "stream",
          "name": "stdout",
          "text": [
            "enter LTA:450000\n",
            "TAX: 10000.0\n"
          ]
        }
      ]
    },
    {
      "cell_type": "code",
      "source": [
        "i=int(input(\"enter LTA:\"))\n",
        "if i>250000 and i<500000:\n",
        "  q=i-250000\n",
        "  print(\"TAX:\",q*5/100)\n",
        "elif i>500000 and i<750000:\n",
        "  q=i-500000\n",
        "  w=500000-250000\n",
        "  print(\"TAX:\",w*5/100+q*10/100)\n",
        "elif i>750000 and i<1000000:\n",
        "  q=i-750000\n",
        "  w=500000-250000\n",
        "  print(\"TAX:\",q*20/100+)\n",
        "elif i>1000000:\n",
        "  q=i-250000\n",
        "  print(\"TAX:\",q*30/100)"
      ],
      "metadata": {
        "colab": {
          "base_uri": "https://localhost:8080/"
        },
        "outputId": "4657b176-f048-4d87-98ad-ff4fcea5a357",
        "id": "lhlmUfwHgR8j"
      },
      "execution_count": null,
      "outputs": [
        {
          "output_type": "stream",
          "name": "stdout",
          "text": [
            "enter LTA:450000\n",
            "TAX: 10000.0\n"
          ]
        }
      ]
    },
    {
      "cell_type": "code",
      "source": [
        "i=int(input(\"enter LTA:\"))\n",
        "if i>250000 and i<500000:\n",
        "  q=i-250000\n",
        "  print(\"TAX:\",q*5/100)\n",
        "elif i>500000 and i<750000:\n",
        "  q=i-500000\n",
        "  w=500000-250000\n",
        "  print(\"TAX:\",w*5/100+q*10/100)\n",
        "elif i>750000 and i<1000000:\n",
        "  q=i-750000\n",
        "  w=500000-250000\n",
        "  print(\"TAX:\",q*20/100+)\n",
        "elif i>1000000:\n",
        "  q=i-250000\n",
        "  print(\"TAX:\",q*30/100)"
      ],
      "metadata": {
        "colab": {
          "base_uri": "https://localhost:8080/"
        },
        "outputId": "4657b176-f048-4d87-98ad-ff4fcea5a357",
        "id": "BZiA8Hr0gSsq"
      },
      "execution_count": null,
      "outputs": [
        {
          "output_type": "stream",
          "name": "stdout",
          "text": [
            "enter LTA:450000\n",
            "TAX: 10000.0\n"
          ]
        }
      ]
    },
    {
      "cell_type": "code",
      "source": [
        "i=int(input(\"enter LTA:\"))\n",
        "if i>250000 and i<500000:\n",
        "  q=i-250000\n",
        "  print(\"TAX:\",q*5/100)\n",
        "elif i>500000 and i<750000:\n",
        "  q=i-500000\n",
        "  w=500000-250000\n",
        "  print(\"TAX:\",w*5/100+q*10/100)\n",
        "elif i>750000 and i<1000000:\n",
        "  q=i-750000\n",
        "  w=500000-250000\n",
        "  e=750000-500000\n",
        "  print(\"TAX:\",q*20/100+w*5/100+e*10/100))\n",
        "elif i>1000000:\n",
        "  q=i-1000000\n",
        "  w=500000-250000\n",
        "  e=750000-500000\n",
        "  r=1000000-750000\n",
        "  print(\"TAX:\",q*30/100+w*5/100+e*10/100+r*20/100)"
      ],
      "metadata": {
        "colab": {
          "base_uri": "https://localhost:8080/"
        },
        "outputId": "4657b176-f048-4d87-98ad-ff4fcea5a357",
        "id": "3w3O37yXgW-7"
      },
      "execution_count": null,
      "outputs": [
        {
          "output_type": "stream",
          "name": "stdout",
          "text": [
            "enter LTA:450000\n",
            "TAX: 10000.0\n"
          ]
        }
      ]
    },
    {
      "cell_type": "code",
      "source": [
        ""
      ],
      "metadata": {
        "id": "DrBytZYIXFNt"
      },
      "execution_count": null,
      "outputs": []
    }
  ]
}